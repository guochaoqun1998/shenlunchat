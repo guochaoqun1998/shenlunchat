{
 "cells": [
  {
   "cell_type": "code",
   "execution_count": 1,
   "metadata": {},
   "outputs": [],
   "source": [
    "# 在这个notebook中，用于 langchain 0.3 + pydantic v2 的 申论评分任务实现。 基于此实现，完成后续 ShenlunChat的重构。\n",
    "# 实现以下目标\n",
    "# 1. 使用LCEL 实现申论评分任务。\n",
    "#    1.1 使用 pydantic v2 的 BaseModel 设计 state \n",
    "#    1.2 使用 LCEL 完成 可配置 可重试 可设置并行数 的 任务配置。\n",
    "#    1.3 完成不同情况下的 失败结果退出。\n",
    "# 2. 完成不同模型的评测 （方便后续对于模型的评测）\n",
    "# 3. 实现 log 的配置：\n",
    "#    3.1 可存储 可打印 可以配置等级\n",
    "# 完成以上的类图设计 + 拓展说明"
   ]
  },
  {
   "cell_type": "markdown",
   "metadata": {},
   "source": [
    "## PART One: 在此部分，会完成 langchain 新API的尝试调用，完成基本链路的走通。"
   ]
  },
  {
   "cell_type": "code",
   "execution_count": null,
   "metadata": {},
   "outputs": [],
   "source": []
  },
  {
   "cell_type": "markdown",
   "metadata": {},
   "source": [
    "# PART TWO: 在此部分，会完成 模型评测的基本链路实现。"
   ]
  },
  {
   "cell_type": "markdown",
   "metadata": {},
   "source": [
    "# PART THREE: 在此部分，会完成 类图的设计。 说明在此设计下，如何能够对新的任务进行拓展。\n",
    "\n",
    "我们设计以下几个概念:\n",
    "\n",
    "Task: LLM的一个任务\n",
    "TaskChain: 申论中的一个大任务，由多个Task组成。\n",
    "\n",
    "对于每一个Task，都是由LCEL实现的。而LCEL 则是由 prompt + llm + parser组成。 其中 prompt则是由 role（角色）+task（任务描述）+ input_format（输入格式）+demonstrations（示例）+output_format（输出格式）+current_input（当前输入）组成。\n",
    "\n",
    "一个TaskChain将不同的Task串起来，为了比较好的分隔开多个task，使用BaseModel定义的state来对每一个task 和 TaskChain 进行输入与输出的定义。 对于每一个task和TaskChain内的操作,我们定义抽象类，避免直接对task进行定义。\n"
   ]
  },
  {
   "cell_type": "code",
   "execution_count": 3,
   "metadata": {},
   "outputs": [
    {
     "data": {
      "text/plain": [
       "{'AquilaChat-7B',\n",
       " 'BLOOMZ-7B',\n",
       " 'ChatGLM2-6B-32K',\n",
       " 'ChatLaw',\n",
       " 'EB-turbo-AppBuilder',\n",
       " 'ERNIE 3.5',\n",
       " 'ERNIE Speed',\n",
       " 'ERNIE Speed-AppBuilder',\n",
       " 'ERNIE-3.5-128K',\n",
       " 'ERNIE-3.5-8K',\n",
       " 'ERNIE-3.5-8K-0205',\n",
       " 'ERNIE-3.5-8K-0329',\n",
       " 'ERNIE-3.5-8K-0613',\n",
       " 'ERNIE-3.5-8K-preview',\n",
       " 'ERNIE-3.5-preview',\n",
       " 'ERNIE-4.0-8K',\n",
       " 'ERNIE-4.0-8K-0104',\n",
       " 'ERNIE-4.0-8K-0329',\n",
       " 'ERNIE-4.0-8K-0613',\n",
       " 'ERNIE-4.0-8K-Latest',\n",
       " 'ERNIE-4.0-8K-Preview-0518',\n",
       " 'ERNIE-4.0-8K-preview',\n",
       " 'ERNIE-4.0-Turbo-8K',\n",
       " 'ERNIE-4.0-preview',\n",
       " 'ERNIE-Bot',\n",
       " 'ERNIE-Bot-4',\n",
       " 'ERNIE-Bot-turbo',\n",
       " 'ERNIE-Bot-turbo-AI',\n",
       " 'ERNIE-Character-8K',\n",
       " 'ERNIE-Character-Fiction-8K',\n",
       " 'ERNIE-Function-8K',\n",
       " 'ERNIE-Functions-8K',\n",
       " 'ERNIE-Lite-8K',\n",
       " 'ERNIE-Lite-8K-0308',\n",
       " 'ERNIE-Lite-8K-0922',\n",
       " 'ERNIE-Lite-AppBuilder-8K-0614',\n",
       " 'ERNIE-Speed',\n",
       " 'ERNIE-Speed-128K',\n",
       " 'ERNIE-Speed-8K',\n",
       " 'ERNIE-Tiny-8K',\n",
       " 'Gemma-7B-it',\n",
       " 'Llama-2-13B-Chat',\n",
       " 'Llama-2-70B-Chat',\n",
       " 'Llama-2-7B-Chat',\n",
       " 'Meta-Llama-3-70B',\n",
       " 'Meta-Llama-3-8B',\n",
       " 'Mixtral-8x7B-Instruct',\n",
       " 'Qianfan-BLOOMZ-7B-compressed',\n",
       " 'Qianfan-Chinese-Llama-2-13B',\n",
       " 'Qianfan-Chinese-Llama-2-70B',\n",
       " 'Qianfan-Chinese-Llama-2-7B',\n",
       " 'XuanYuan-70B-Chat-4bit',\n",
       " 'Yi-34B-Chat'}"
      ]
     },
     "execution_count": 3,
     "metadata": {},
     "output_type": "execute_result"
    }
   ],
   "source": [
    "import qianfan\n",
    "import os\n",
    "from dotenv import load_dotenv\n",
    "dot_env_path = \"/Users/guochaoqun/Documents/code/.env\"\n",
    "load_dotenv(dotenv_path=dot_env_path)\n",
    "\n",
    "ak = os.getenv(\"QIANFAN_AK\")\n",
    "sk = os.getenv(\"QIANFAN_SK\")\n",
    "\n",
    "qianfan.ChatCompletion(access_key=ak, secret_key=sk).models()"
   ]
  },
  {
   "cell_type": "code",
   "execution_count": null,
   "metadata": {},
   "outputs": [],
   "source": []
  }
 ],
 "metadata": {
  "kernelspec": {
   "display_name": "env_ai",
   "language": "python",
   "name": "python3"
  },
  "language_info": {
   "codemirror_mode": {
    "name": "ipython",
    "version": 3
   },
   "file_extension": ".py",
   "mimetype": "text/x-python",
   "name": "python",
   "nbconvert_exporter": "python",
   "pygments_lexer": "ipython3",
   "version": "3.10.15"
  }
 },
 "nbformat": 4,
 "nbformat_minor": 2
}
