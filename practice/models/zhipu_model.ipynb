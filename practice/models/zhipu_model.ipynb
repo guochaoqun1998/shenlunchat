{
 "cells": [
  {
   "cell_type": "markdown",
   "metadata": {},
   "source": [
    "在这个notebook，我们会尝试zhipu的模型\n",
    "```bash\n",
    "pip install langchain langchainhub httpx_sse\n",
    "\n",
    "pip install zhipuai\n",
    "```"
   ]
  },
  {
   "cell_type": "code",
   "execution_count": 2,
   "metadata": {},
   "outputs": [
    {
     "data": {
      "text/plain": [
       "True"
      ]
     },
     "execution_count": 2,
     "metadata": {},
     "output_type": "execute_result"
    }
   ],
   "source": [
    "from dotenv import load_dotenv\n",
    "dot_env_path = \"/Users/guochaoqun/Documents/code/.env\"\n",
    "load_dotenv(dotenv_path=dot_env_path)"
   ]
  },
  {
   "cell_type": "markdown",
   "metadata": {},
   "source": [
    "采用zhipu的SDK直接调用 图像理解模型"
   ]
  },
  {
   "cell_type": "code",
   "execution_count": 3,
   "metadata": {},
   "outputs": [],
   "source": [
    "import os\n",
    "zhipu_api_key = os.environ.get(\"ZHIPU_KEY\", None)\n",
    "import base64\n",
    "from zhipuai import ZhipuAI\n"
   ]
  },
  {
   "cell_type": "code",
   "execution_count": null,
   "metadata": {},
   "outputs": [],
   "source": [
    "\n",
    "img_path = \"/Users/guochaoqun/Downloads/test1.jpg\"\n",
    "with open(img_path, 'rb') as img_file:\n",
    "    img_base = base64.b64encode(img_file.read()).decode('utf-8')\n",
    "\n",
    "client = ZhipuAI(api_key=zhipu_api_key) # 填写您自己的APIKey\n",
    "response = client.chat.completions.create(\n",
    "    model=\"glm-4v\",  # 填写需要调用的模型名称\n",
    "    messages=[\n",
    "      {\n",
    "        \"role\": \"user\",\n",
    "        \"content\": [\n",
    "          {\n",
    "            \"type\": \"image_url\",\n",
    "            \"image_url\": {\n",
    "                \"url\": img_base\n",
    "            }\n",
    "          },\n",
    "          {\n",
    "            \"type\": \"text\",\n",
    "            \"text\": \"只识别学生写入的字（包括数字和标点），并输出\"\n",
    "          }\n",
    "        ]\n",
    "      }\n",
    "    ]\n",
    ")\n",
    "print(response.choices[0].message)\n"
   ]
  },
  {
   "cell_type": "markdown",
   "metadata": {},
   "source": [
    "采用langchain的chatmodel格式调用\n",
    "zhipu采用openai的格式\n",
    "\n",
    "可以字迹识别的模型 能力差别: \n",
    "1. GLM-4V-FAST 不能区分 学生字迹 和 纸上的印刷字\n",
    "2. GLM-4V-Plus-011 可以区分 学生字迹 和 纸上的印刷字， 但是不能按照想要的 Pydantic格式输出\n",
    "3. GLM-4V-Plus-0111 可以区分 学生字迹 和 纸上的印刷字， 并且可以按照想要的 Pydantic格式输出 （6.2s 识别时长过长，需要查看其他替代模型）"
   ]
  },
  {
   "cell_type": "code",
   "execution_count": 11,
   "metadata": {},
   "outputs": [],
   "source": [
    "import os\n",
    "from langchain_openai import ChatOpenAI\n",
    "from langchain.prompts import (\n",
    "    ChatPromptTemplate,\n",
    "    MessagesPlaceholder,\n",
    "    SystemMessagePromptTemplate,\n",
    "    HumanMessagePromptTemplate,\n",
    ")\n",
    "from langchain_core.runnables import RunnableLambda\n",
    "from langchain.output_parsers import PydanticOutputParser\n",
    "from pydantic import BaseModel\n",
    "from pydantic import Field\n",
    "\n",
    "class ModelConfig:\n",
    "    model_name = \"GLM-4V-Plus-0111\"\n",
    "    api_key = os.environ.get(\"ZHIPU_KEY\", None)\n",
    "    api_base = \"https://open.bigmodel.cn/api/paas/v4/\"\n",
    "    temperature = 0.0\n",
    "\n",
    "def load_img_url(img_path):\n",
    "    with open(img_path, 'rb') as img_file:\n",
    "        img_base = base64.b64encode(img_file.read()).decode('utf-8')\n",
    "    return {\"img_url\": img_base}\n",
    "\n",
    "llm = ChatOpenAI(\n",
    "    temperature=ModelConfig.temperature,\n",
    "    model=ModelConfig.model_name,\n",
    "    openai_api_key=ModelConfig.api_key,\n",
    "    openai_api_base=ModelConfig.api_base\n",
    ")\n",
    "\n",
    "class Output(BaseModel):\n",
    "    text: str = Field(description=\"输出文字\")\n",
    "    handwriting_quality: int = Field(description=\"字迹质量。范围0-2 0分表示字迹潦草，1分表示部分字迹潦草，2分表示字迹工整\")\n",
    "\n",
    "role_prompt = SystemMessagePromptTemplate.from_template(\"你是一个专业的图像转文本专家，请根据图像内容，给出其中的文字。\")\n",
    "# img_url = load_img_url(img_path)\n",
    "image_message = [{\n",
    "        \"type\": \"image_url\",\n",
    "        \"image_url\": {\n",
    "            \"url\": '{img_url}'\n",
    "        },\n",
    "}]\n",
    "text_message = [\"只识别学生写入的字（包括数字和标点），并输出文字. 同时给出字迹质量，范围0-2 0分表示字迹潦草，1分表示部分字迹潦草，2分表示字迹工整。请按json格式输出\"]\n",
    "human_prompt = HumanMessagePromptTemplate.from_template(image_message + text_message)\n",
    "\n",
    "prompt = role_prompt + human_prompt\n",
    "prompt_lambda = RunnableLambda(load_img_url)\n",
    "parser = PydanticOutputParser(pydantic_object=Output)\n",
    "prompt = prompt.partial(format_instructions=parser.get_format_instructions())\n",
    "chain = prompt_lambda | prompt | llm | parser\n",
    "\n",
    "result = chain.invoke( \"/Users/guochaoqun/Downloads/test1.jpg\")"
   ]
  },
  {
   "cell_type": "code",
   "execution_count": null,
   "metadata": {},
   "outputs": [],
   "source": []
  }
 ],
 "metadata": {
  "kernelspec": {
   "display_name": "env_ai",
   "language": "python",
   "name": "python3"
  },
  "language_info": {
   "codemirror_mode": {
    "name": "ipython",
    "version": 3
   },
   "file_extension": ".py",
   "mimetype": "text/x-python",
   "name": "python",
   "nbconvert_exporter": "python",
   "pygments_lexer": "ipython3",
   "version": "3.10.15"
  }
 },
 "nbformat": 4,
 "nbformat_minor": 2
}
