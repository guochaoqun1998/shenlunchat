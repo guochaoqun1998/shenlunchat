{
 "cells": [
  {
   "cell_type": "code",
   "execution_count": null,
   "metadata": {},
   "outputs": [],
   "source": [
    "# 在这个ipnb中，想要实现 llm + node, 基于langgraph 来实现问题。\n",
    "# 这种方案相比于 agent直接调用 tool的区别在于，这是一个白盒的过程，我们可以对每一次tool的调用都显式可见。\n",
    "# 同时也可以设置 tool调用之后的顺序。\n",
    "\n",
    "# 因此需要完成：\n",
    "# 1. state的定义\n",
    "# 2. llm node的定义\n",
    "# 3. tool node的定义\n",
    "# 4. graph构建\n",
    "# 5. 可视化与运行\n",
    "# 6. 梳理之后 multi-agent的控制逻辑\n"
   ]
  },
  {
   "cell_type": "code",
   "execution_count": 1,
   "metadata": {},
   "outputs": [],
   "source": [
    "# 导入必要的包 laggraph , langchain, shenlunchat\n",
    "import langgraph\n",
    "import langchain\n"
   ]
  },
  {
   "cell_type": "code",
   "execution_count": 2,
   "metadata": {},
   "outputs": [],
   "source": [
    "## 创建 state\n",
    "from langgraph.graph import StateGraph, START, END\n",
    "from pydantic import BaseModel, Field\n",
    "from typing import List, Optional\n",
    "# 输入已经定义好的state\n",
    "# input:StudentAnswer, output:StudentAnswerPoints\n",
    "from ShenlunChat.agents.models.student_answer import  StudentAnswer, StudentAnswerPoints\n",
    "from typing import TypedDict\n",
    "class OverallState(BaseModel):\n",
    "    answer: str = \"\"\n",
    "    points: List[str] = []\n",
    "    valid: bool = False\n"
   ]
  },
  {
   "cell_type": "code",
   "execution_count": 3,
   "metadata": {},
   "outputs": [
    {
     "name": "stdout",
     "output_type": "stream",
     "text": [
      "create agent success\n"
     ]
    }
   ],
   "source": [
    "from ShenlunChat.agents.agent_factory.factory import AgentFactory\n",
    "\n",
    "# 定义 llm 节点\n",
    "model_info = {\"chat_name\":\"openai\",\"model_name\":\"gpt-4o\",\"model_config\":{}}\n",
    "task_info = {\"task_name\":\"split_points\",\"prompt_type\":\"prompt\"}\n",
    "tool_info = [\"check_string_list_in_content\"]\n",
    "llm, parser = AgentFactory.create_agent(model_info,task_info,tool_info,llm=True)\n",
    "print(\"create agent success\")\n",
    "\n",
    "def llm_split_node(state:StudentAnswer)->OverallState:\n",
    "    result = llm.invoke({\"content\":state.content})\n",
    "    return {\"points\":result.check_points, \"valid\":False,\"answer\":state.content}\n",
    "\n"
   ]
  },
  {
   "cell_type": "code",
   "execution_count": 4,
   "metadata": {},
   "outputs": [],
   "source": [
    "# 定义 tool 节点\n",
    "# from ShenlunChat.agents.models.tool import Tool\n",
    "\n",
    "def check_result(state:OverallState)->OverallState:\n",
    "    result = state.points\n",
    "    origin_string = state.answer\n",
    "    str_num = 0\n",
    "    for elem in result:\n",
    "        if elem in origin_string:\n",
    "            str_num += len(elem)\n",
    "    print(\"str_num\",str_num,\"total num:\",len(origin_string))\n",
    "    print(\"rate:\",str_num/len(origin_string))\n",
    "    valid = str_num/len(origin_string) > 0.5\n",
    "    return {\"valid\":valid}\n"
   ]
  },
  {
   "cell_type": "code",
   "execution_count": 5,
   "metadata": {},
   "outputs": [],
   "source": [
    "\n",
    "graph = StateGraph(input=StudentAnswer,state_schema=OverallState)\n",
    "graph.add_node(llm_split_node)\n",
    "graph.add_node(check_result)\n",
    "graph.add_edge(START,\"llm_split_node\")\n",
    "graph.add_edge(\"llm_split_node\",\"check_result\")\n",
    "graph.add_edge(\"check_result\",END)\n",
    "graph=graph.compile()\n"
   ]
  },
  {
   "cell_type": "code",
   "execution_count": 6,
   "metadata": {},
   "outputs": [
    {
     "name": "stdout",
     "output_type": "stream",
     "text": [
      "str_num 197 total num: 197\n",
      "rate: 1.0\n"
     ]
    },
    {
     "data": {
      "text/plain": [
       "{'answer': '1.树立品牌标杆,强化品牌建设，设立质量奖、推广先进经验，将质量文化、品牌理念向全产业链延伸。2.成立行业联盟，制定行业标准，成为区域品牌，3打造一站示公共服务平台。设立指导站，进行专题培训、内容辅导等4.承办先行论坛。发起多项品牌活动。5提供品牌服务。品牌专业组织为制造业企业提供人才培养、品牌培育、战略升维等服务、6、举办高端品牌会议、宣传广东制造，推动企业从“要素竞争”向“品牌竞争“转变',\n",
       " 'points': ['1.树立品牌标杆,强化品牌建设，设立质量奖、推广先进经验，将质量文化、品牌理念向全产业链延伸。',\n",
       "  '2.成立行业联盟，制定行业标准，成为区域品牌，',\n",
       "  '3打造一站示公共服务平台。设立指导站，进行专题培训、内容辅导等',\n",
       "  '4.承办先行论坛。发起多项品牌活动。',\n",
       "  '5提供品牌服务。品牌专业组织为制造业企业提供人才培养、品牌培育、战略升维等服务、',\n",
       "  '6、举办高端品牌会议、宣传广东制造，推动企业从“要素竞争”向“品牌竞争“转变'],\n",
       " 'valid': True}"
      ]
     },
     "execution_count": 6,
     "metadata": {},
     "output_type": "execute_result"
    }
   ],
   "source": [
    "graph.invoke({\"content\":\"1.树立品牌标杆,强化品牌建设，设立质量奖、推广先进经验，将质量文化、品牌理念向全产业链延伸。2.成立行业联盟，制定行业标准，成为区域品牌，3打造一站示公共服务平台。设立指导站，进行专题培训、内容辅导等4.承办先行论坛。发起多项品牌活动。5提供品牌服务。品牌专业组织为制造业企业提供人才培养、品牌培育、战略升维等服务、6、举办高端品牌会议、宣传广东制造，推动企业从“要素竞争”向“品牌竞争“转变\"})"
   ]
  },
  {
   "cell_type": "code",
   "execution_count": 7,
   "metadata": {},
   "outputs": [
    {
     "data": {
      "image/jpeg": "[encoded data removed]",
      "text/plain": [
       "<IPython.core.display.Image object>"
      ]
     },
     "metadata": {},
     "output_type": "display_data"
    }
   ],
   "source": [
    "## 图的可视化\n",
    "from IPython.display import Image, display\n",
    "display(Image(graph.get_graph().draw_mermaid_png()))\n"
   ]
  },
  {
   "cell_type": "code",
   "execution_count": null,
   "metadata": {},
   "outputs": [],
   "source": [
    "## 接下来 看一下 多任务的情况， 如果将多个任务 采用 multi-agent的形式串联起来。 \n",
    "## 最好的方式是： gtaph的拼接，将多个graph拼接起来。\n",
    "\n",
    "from langchain_core.messages import (\n",
    "    BaseMessage,\n",
    "    HumanMessage,\n",
    "    ToolMessage,\n",
    ")"
   ]
  }
 ],
 "metadata": {
  "kernelspec": {
   "display_name": "env_graph",
   "language": "python",
   "name": "python3"
  },
  "language_info": {
   "codemirror_mode": {
    "name": "ipython",
    "version": 3
   },
   "file_extension": ".py",
   "mimetype": "text/x-python",
   "name": "python",
   "nbconvert_exporter": "python",
   "pygments_lexer": "ipython3",
   "version": "3.9.18"
  }
 },
 "nbformat": 4,
 "nbformat_minor": 2
}
